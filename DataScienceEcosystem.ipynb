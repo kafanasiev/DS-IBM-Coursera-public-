{
 "cells": [
  {
   "cell_type": "markdown",
   "id": "7ea93639-0d48-44a7-876a-0d6201c629ea",
   "metadata": {},
   "source": [
    "# Data Science Tools and Ecosystem"
   ]
  },
  {
   "cell_type": "markdown",
   "id": "72ba05a5-1181-4405-895c-c9ea943d0048",
   "metadata": {},
   "source": [
    "In this notebook, Data Science Tools and Ecosystem are summarized."
   ]
  },
  {
   "cell_type": "markdown",
   "id": "2e883ce8-ead2-481f-a8eb-0c4a8da8e45a",
   "metadata": {},
   "source": [
    "**Objectives:**\n",
    "- Summarizing the popular languages for Data Science\n",
    "- Remembering some commonly used libraries used by Data Scientists\n",
    "- Remembering some popular Data Science Tools\n",
    "- Practicing using Mardown in Jupiter\n",
    "- Practicing in simple code creation"
   ]
  },
  {
   "cell_type": "markdown",
   "id": "beb480d7-8e7b-4ca1-8f2b-461207dd4e6a",
   "metadata": {},
   "source": [
    "Some of the popular languages that Data Scientists use are:\n",
    "1. Python\n",
    "2. R\n",
    "3. SQL"
   ]
  },
  {
   "cell_type": "markdown",
   "id": "b5201cb1-2a0c-4e38-8210-df2991d3e737",
   "metadata": {},
   "source": [
    "Some of the commonly used libraries used by Data Scientists include:\n",
    "1. TensorFlow\n",
    "2. NumPy\n",
    "3. ScyPy"
   ]
  },
  {
   "cell_type": "markdown",
   "id": "233961f7-31c0-4b98-beae-2224be129c59",
   "metadata": {},
   "source": [
    "| Data Science Tools |\n",
    "| --- |\n",
    "| Jupiter Notebook |\n",
    "| RStudio |\n",
    "| ApacheStark |"
   ]
  },
  {
   "cell_type": "markdown",
   "id": "dd9be3ed-9e87-4fd4-9be4-bb6053c428f1",
   "metadata": {},
   "source": [
    "### Below are a few examples of evaluating arithmetic expressions in Python"
   ]
  },
  {
   "cell_type": "code",
   "execution_count": 5,
   "id": "0cc76feb-76d8-44fa-bed8-15eafc678a98",
   "metadata": {},
   "outputs": [
    {
     "name": "stdout",
     "output_type": "stream",
     "text": [
      "17\n"
     ]
    }
   ],
   "source": [
    "# This a simple arithmetic expression to mutiply then add integers\n",
    "print ((3*4)+5)"
   ]
  },
  {
   "cell_type": "code",
   "execution_count": 15,
   "id": "cb94f2a2-9d92-4e04-bbda-429b6fb95837",
   "metadata": {},
   "outputs": [
    {
     "name": "stdout",
     "output_type": "stream",
     "text": [
      "200 minutes in hours are 3 hours\n"
     ]
    }
   ],
   "source": [
    "# This will convert 200 minutes to hours by dividing by 60\n",
    "a = 200 // 60\n",
    "print(\"200 minutes in hours are %d hours\" % a)"
   ]
  },
  {
   "cell_type": "markdown",
   "id": "1f8e74bf-a964-45d0-a711-b76598e825ff",
   "metadata": {},
   "source": [
    "## Author\n",
    "Kostiantyn Afanasiev"
   ]
  }
 ],
 "metadata": {
  "kernelspec": {
   "display_name": "Python",
   "language": "python",
   "name": "conda-env-python-py"
  },
  "language_info": {
   "codemirror_mode": {
    "name": "ipython",
    "version": 3
   },
   "file_extension": ".py",
   "mimetype": "text/x-python",
   "name": "python",
   "nbconvert_exporter": "python",
   "pygments_lexer": "ipython3",
   "version": "3.7.12"
  }
 },
 "nbformat": 4,
 "nbformat_minor": 5
}
